{
 "cells": [
  {
   "metadata": {},
   "cell_type": "markdown",
   "source": "# Analysis of the Combined data for 7pad Scanning",
   "id": "d4f84809d3a45a1f"
  },
  {
   "cell_type": "code",
   "id": "initial_id",
   "metadata": {
    "collapsed": true,
    "ExecuteTime": {
     "end_time": "2025-04-09T13:15:38.221406Z",
     "start_time": "2025-04-09T13:15:38.216641Z"
    }
   },
   "source": [
    "from single_pad_analysis.analysis_functions import *\n",
    "from single_pad_analysis.HexDetector import HexDetector"
   ],
   "outputs": [],
   "execution_count": 2
  },
  {
   "metadata": {
    "ExecuteTime": {
     "end_time": "2025-04-09T13:22:27.711569Z",
     "start_time": "2025-04-09T13:22:27.707698Z"
    }
   },
   "cell_type": "code",
   "source": [
    "run_number = 325\n",
    "basedir_path = '/home/akallits/Documents/PicoAnalysis/Saclay_Analysis/data/2023_April_h4/processedTrees/ParameterTrees/'\n",
    "get_run_file_path = lambda pool_num: f'{basedir_path}Run{run_number}-Pool{pool_num}_treeParam.root'\n",
    "pool_number_dict = { #key:value\n",
    "    2: 0,\n",
    "    3: 0,\n",
    "    4: 0,\n",
    "    5: 0 }"
   ],
   "id": "5549d3342a0ce183",
   "outputs": [],
   "execution_count": 3
  },
  {
   "metadata": {},
   "cell_type": "code",
   "outputs": [],
   "execution_count": null,
   "source": [
    "for pool_number in pool_number_dict.keys():\n",
    "    file_path = get_run_file_path(pool_number)\n",
    "    tree = get_tree(file_path, 'ParameterTree')\n",
    "    mcp_channel = 'C1'\n",
    "    mm_channel = 'C2'\n",
    "    channels = [mcp_channel, mm_channel]\n",
    "    global_vars = ['eventNo', 'chi2track']\n",
    "    channel_vars = ['hitX', 'hitY']\n",
    "    peak_param_channel_vars = ['ampl', 'dampl', 'charge', 'echarge', 'echargefit', 'echargefixed', 'totcharge', 'totchargefixed', 'risetime', 'tfit20','tfit20_nb', 'tnaive20', 'sigmoidR[4]']\n",
    "\n",
    "    branches = []\n",
    "    for channel in channels:\n",
    "        for channel_var in channel_vars:\n",
    "            branches.append(f'{channel_var}_{channel}')\n",
    "        for var in peak_param_channel_vars:\n",
    "            branches.append(f'peakparam_{channel}/peakparam_{channel}.{var}')\n",
    "    for var in global_vars:\n",
    "        branches.append(var)\n",
    "    df = get_df_branches(tree, branches)\n",
    "\n",
    "    print(f'Start processing: {df[\"eventNo\"].shape[0]} events')\n",
    "    get_best_tracks(df, channels, chi2_quality, plot=True)\n",
    "\n",
    "    for channel in channels:\n",
    "        get_single_peak(df, channel)\n",
    "\n",
    "    event_start_number = get_run_event_start(df)\n",
    "    print(event_start_number)\n",
    "    # event_start, event_end = 4416, None\n",
    "    event_start, event_end = event_start_number, None\n",
    "\n",
    "    if event_start is not None:\n",
    "        df = df[df['eventNo'] >= event_start]\n",
    "    if event_end is not None:\n",
    "        df = df[df['eventNo'] <= event_end]\n",
    "\n",
    "    time_col = 'tfit20_nb'\n",
    "    df[f'{mm_channel}_time_diff'] = df[f'peakparam_{mm_channel}/peakparam_{mm_channel}.{time_col}'] - df[f'peakparam_{mcp_channel}/peakparam_{mcp_channel}.{time_col}']\n",
    "\n",
    "    filters = {channel: {} for channel in channels}\n",
    "    for channel in channels:\n",
    "\n",
    "        tot_charge_data = df[f'peakparam_{channel}/peakparam_{channel}.totcharge']\n",
    "        filters[channel].update({'totcharge_cut': (tot_charge_data > min_charge_tot) & (tot_charge_data < max_charge_tot)})\n",
    "\n",
    "        echarge_data = df[f'peakparam_{channel}/peakparam_{channel}.echarge']\n",
    "        filters[channel].update({'echarge_cut': (echarge_data > min_echarge) & (echarge_data < max_echarge)})\n",
    "\n",
    "        echarge_fit_data = df[f'peakparam_{channel}/peakparam_{channel}.echargefit']\n",
    "        filters[channel].update({'echargefit_cut': (echarge_fit_data > min_echarge) & (echarge_fit_data < max_echarge)})\n",
    "\n",
    "        charge_data = df[f'peakparam_{channel}/peakparam_{channel}.charge']\n",
    "        filters[channel].update({'charge_cut': (charge_data > min_charge_tot) & (charge_data < max_charge_tot)})\n",
    "\n",
    "        ampl_data = df[f'peakparam_{channel}/peakparam_{channel}.ampl']\n",
    "        filters[channel].update({'ampl_cut': (ampl_data > min_ampl) & (ampl_data < max_ampl)})\n",
    "\n",
    "        dampl_data = df[f'peakparam_{channel}/peakparam_{channel}.dampl']\n",
    "        filters[channel].update({'dampl_cut': (dampl_data > min_ampl) & (dampl_data < max_ampl)})\n",
    "        filters[channel].update({'saturation_cut': dampl_data < mm_saturation_voltage})\n",
    "\n",
    "        x_data = df[f'hitX_{channel}']\n",
    "        y_data = df[f'hitY_{channel}']\n",
    "\n",
    "        xy_filter_cut = (x_data > xy_range_min) & (x_data < xy_range_max) & (y_data > xy_range_min) & (y_data < xy_range_max)\n",
    "        filters[channel].update({'xy_cut': xy_filter_cut})\n",
    "\n",
    "    mm_charge_filtered_df = df[filters[mm_channel]['totcharge_cut']]\n",
    "\n",
    "    df_filter = df[filters[mm_channel]['totcharge_cut'] & filters[mm_channel]['xy_cut'] & filters[mm_channel]['saturation_cut']]\n",
    "    xs_mm_filtered = df_filter[f'hitX_{mm_channel}']\n",
    "    ys_mm_filtered = df_filter[f'hitY_{mm_channel}']\n",
    "    charges_mm_filtered = df_filter[f'peakparam_{mm_channel}/peakparam_{mm_channel}.totcharge']\n",
    "    mm_pad_center_measures = get_pad_center(charges_mm_filtered, xs_mm_filtered, ys_mm_filtered, min_avg_charge_per_2d_bin=10, plot=True)\n",
    "    print(f'{mm_channel} Pad Center: ({\", \".join([str(xi) for xi in mm_pad_center_measures])})')\n",
    "\n",
    "    df[f'hitR_{mm_channel}'] = np.sqrt((df[f'hitX_{mm_channel}'] - mm_pad_center_measures[0].val) ** 2 + (df[f'hitY_{mm_channel}'] - mm_pad_center_measures[1].val) ** 2)\n",
    "    r_inner = 4.3\n",
    "    r_outer = hex_radius_inner_to_outer(r_inner)\n",
    "    filters[mm_channel].update({'r_cut': df[f'hitR_{mm_channel}'] < r_outer})\n",
    "\n",
    "    time_walk_func = time_walk_double_exponential\n",
    "    p0 = [1.0, -0.1, 0.5, -0.1, 4] #ampl1, decay1, amp2, decay2, bsl\n",
    "\n",
    "    df_filter = df[filters[mm_channel]['totcharge_cut'] & filters[mm_channel]['xy_cut'] & filters[mm_channel]['r_cut'] & filters[mm_channel]['saturation_cut']]\n",
    "    charges = df_filter[f'peakparam_{mm_channel}/peakparam_{mm_channel}.totcharge']\n",
    "    time_diff = df_filter[f'{mm_channel}_time_diff']\n",
    "    xs = df_filter[f'hitX_{mm_channel}']\n",
    "    ys = df_filter[f'hitY_{mm_channel}']\n",
    "    rs = df_filter[f'hitR_{mm_channel}']\n",
    "\n",
    "    indiv_params, med_bins_params, gaus_bins_params = get_time_walk_parameterization(time_diff, charges, time_walk_func, p0, percentile_cut=(2, 98), plot=True, plot_indiv_fits=False)\n",
    "\n",
    "\n"
   ],
   "id": "d19089357a5e1785"
  }
 ],
 "metadata": {
  "kernelspec": {
   "display_name": "Python 3",
   "language": "python",
   "name": "python3"
  },
  "language_info": {
   "codemirror_mode": {
    "name": "ipython",
    "version": 2
   },
   "file_extension": ".py",
   "mimetype": "text/x-python",
   "name": "python",
   "nbconvert_exporter": "python",
   "pygments_lexer": "ipython2",
   "version": "2.7.6"
  }
 },
 "nbformat": 4,
 "nbformat_minor": 5
}
