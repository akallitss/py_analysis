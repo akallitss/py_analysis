{
 "cells": [
  {
   "metadata": {},
   "cell_type": "markdown",
   "source": "# Analysis of the Combined data for 7pad Scanning",
   "id": "d4f84809d3a45a1f"
  },
  {
   "cell_type": "code",
   "id": "initial_id",
   "metadata": {
    "collapsed": true,
    "ExecuteTime": {
     "end_time": "2025-04-09T13:15:38.221406Z",
     "start_time": "2025-04-09T13:15:38.216641Z"
    }
   },
   "source": [
    "from single_pad_analysis.analysis_functions import *\n",
    "from single_pad_analysis.HexDetector import HexDetector"
   ],
   "outputs": [],
   "execution_count": 2
  },
  {
   "metadata": {
    "ExecuteTime": {
     "end_time": "2025-04-09T13:22:27.711569Z",
     "start_time": "2025-04-09T13:22:27.707698Z"
    }
   },
   "cell_type": "code",
   "source": [
    "run_number = 325\n",
    "basedir_path = '/home/akallits/Documents/PicoAnalysis/Saclay_Analysis/data/2023_April_h4/processedTrees/ParameterTrees/'\n",
    "get_run_file_path = lambda pool_num: f'{basedir_path}Run{run_number}-Pool{pool_num}_treeParam.root'\n",
    "pool_number_dict = { #key:value\n",
    "    2: 0,\n",
    "    3: 0,\n",
    "    4: 0,\n",
    "    5: 0 }"
   ],
   "id": "5549d3342a0ce183",
   "outputs": [],
   "execution_count": 3
  },
  {
   "metadata": {},
   "cell_type": "code",
   "outputs": [],
   "execution_count": null,
   "source": [
    "for pool_number in pool_number_dict.keys():\n",
    "    file_path = get_run_file_path(pool_number)\n",
    "    tree = get_tree(file_path, 'ParameterTree')\n",
    "\n",
    "\n"
   ],
   "id": "d19089357a5e1785"
  }
 ],
 "metadata": {
  "kernelspec": {
   "display_name": "Python 3",
   "language": "python",
   "name": "python3"
  },
  "language_info": {
   "codemirror_mode": {
    "name": "ipython",
    "version": 2
   },
   "file_extension": ".py",
   "mimetype": "text/x-python",
   "name": "python",
   "nbconvert_exporter": "python",
   "pygments_lexer": "ipython2",
   "version": "2.7.6"
  }
 },
 "nbformat": 4,
 "nbformat_minor": 5
}
