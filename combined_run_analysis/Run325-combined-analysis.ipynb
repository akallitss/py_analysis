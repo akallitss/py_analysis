{
 "cells": [
  {
   "metadata": {},
   "cell_type": "markdown",
   "source": "# Analysis of the Combined data for 7pad Scanning",
   "id": "d4f84809d3a45a1f"
  },
  {
   "cell_type": "code",
   "id": "initial_id",
   "metadata": {
    "collapsed": true,
    "ExecuteTime": {
     "end_time": "2025-04-09T13:15:38.221406Z",
     "start_time": "2025-04-09T13:15:38.216641Z"
    }
   },
   "source": [
    "from single_pad_analysis.analysis_functions import *\n",
    "from single_pad_analysis.HexDetector import HexDetector"
   ],
   "outputs": [],
   "execution_count": 2
  },
  {
   "metadata": {
    "ExecuteTime": {
     "end_time": "2025-04-09T13:22:27.711569Z",
     "start_time": "2025-04-09T13:22:27.707698Z"
    }
   },
   "cell_type": "code",
   "source": [
    "run_number = 325\n",
    "basedir_path = '../scan_pad_dfs/'\n",
    "get_pad_csv_path = lambda pool_num, mm_channel: f'{basedir_path}Run{run_number}-Pool{pool_num}-{mm_channel}.csv'\n",
    "\n",
    "pad_centers_df = pd.read_csv(f'{basedir_path}scan_pad_centers.csv')"
   ],
   "id": "5549d3342a0ce183",
   "outputs": [],
   "execution_count": 3
  },
  {
   "metadata": {},
   "cell_type": "code",
   "outputs": [],
   "execution_count": null,
   "source": [
    "class Pad:\n",
    "    def __init__(self, pool_num, mm_channel):\n",
    "        self.pool_num = pool_num\n",
    "        self.mm_channel = mm_channel\n",
    "        self.x_center = None\n",
    "        self.y_center = None\n",
    "\n",
    "    def __repr__(self):\n",
    "        return f\"Pad(pool_num={self.pool_num}, mm_channel={self.mm_channel}, x_center={self.x_center}, y_center={self.y_center})\""
   ],
   "id": "c7fed192609d9417"
  },
  {
   "metadata": {},
   "cell_type": "code",
   "outputs": [],
   "execution_count": null,
   "source": [
    "pads = [\n",
    "    Pad(4, 'C2'),\n",
    "]"
   ],
   "id": "9f3f14c2fd0f7e59"
  },
  {
   "metadata": {},
   "cell_type": "code",
   "outputs": [],
   "execution_count": null,
   "source": [
    "# Update pads with pad center information\n",
    "for pad in pads:\n",
    "    pad_center_row = pad_centers_df[(pad_centers_df['run_number'] == run_number) & (pad_centers_df['pool_number'] == pad['pool_num']) & (pad_centers_df['channel_number'] == pad['mm_channel'])]\n",
    "    if pad_center_row.empty:\n",
    "        print(f\"Pad center not found for run {run_number}, pool {pad['pool_num']}, channel {pad['mm_channel']}\")\n",
    "        continue\n",
    "    elif len(pad_center_row) > 1:\n",
    "        print(f\"Multiple pad centers found for run {run_number}, pool {pad['pool_num']}, channel {pad['mm_channel']}\")\n",
    "        continue\n",
    "    pad_center_row = pad_center_row[0]\n",
    "    x_center = Measure(pad_center_row['x_center'], pad_center_row['x_center_err'])\n",
    "    y_center = Measure(pad_center_row['y_center'], pad_center_row['y_center_err'])\n",
    "    pad.x_center = x_center\n",
    "    pad.y_center = y_center"
   ],
   "id": "6f6973d7ac5cbd50"
  },
  {
   "metadata": {},
   "cell_type": "code",
   "outputs": [],
   "execution_count": null,
   "source": [
    "# Load dataframes for each pad\n",
    "for pad in pads:\n",
    "    pad.df = pd.read_csv(get_pad_csv_path(pad.pool_num, pad.mm_channel))\n"
   ],
   "id": "ae02aced1e461186"
  }
 ],
 "metadata": {
  "kernelspec": {
   "display_name": "Python 3",
   "language": "python",
   "name": "python3"
  },
  "language_info": {
   "codemirror_mode": {
    "name": "ipython",
    "version": 2
   },
   "file_extension": ".py",
   "mimetype": "text/x-python",
   "name": "python",
   "nbconvert_exporter": "python",
   "pygments_lexer": "ipython2",
   "version": "2.7.6"
  }
 },
 "nbformat": 4,
 "nbformat_minor": 5
}
