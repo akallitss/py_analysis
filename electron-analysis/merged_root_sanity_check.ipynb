{
 "cells": [
  {
   "cell_type": "code",
   "id": "initial_id",
   "metadata": {
    "collapsed": true,
    "ExecuteTime": {
     "end_time": "2025-04-25T10:28:14.347331Z",
     "start_time": "2025-04-25T10:28:14.211800Z"
    }
   },
   "source": [
    "import os\n",
    "import matplotlib.patches as patches\n",
    "import matplotlib.pyplot as plt\n",
    "\n",
    "from HexDetector import hex_radius_inner_to_outer\n",
    "from analysis_functions import *\n",
    "\n",
    "set_matplotlib_style()"
   ],
   "outputs": [],
   "execution_count": 1
  },
  {
   "metadata": {
    "ExecuteTime": {
     "end_time": "2025-04-25T10:28:14.439111Z",
     "start_time": "2025-04-25T10:28:14.436647Z"
    }
   },
   "cell_type": "code",
   "source": [
    "run_number = 320\n",
    "pool_number = 6\n",
    "# run_path = f'/home/akallits/Documents/PicoAnalysis/Saclay_Analysis/data/2023_April_h4/processedTrees/ParameterTrees/Run{run_number}-Pool{pool_number}_treeParam.root'\n",
    "# run_path = f'/data/akallits/Saclay_Analysis/data/data/2023_April_h4/processedTrees/ParameterTrees/Run{run_number}-Pool{pool_number}_treeParam.root'\n",
    "base_path = '/local/home/dn277127/Bureau/picosec/'\n",
    "run_path = f'{base_path}Run{run_number}-Pool{pool_number}_treeParam.root'\n",
    "merged_run_path = f'{base_path}run{run_number}_merged.root'\n",
    "# run_path = f'/home/dylan/Desktop/picosec/Run{run_number}-Pool{pool_number}_treeParam.root'"
   ],
   "id": "7c5a33d28e17ddcc",
   "outputs": [],
   "execution_count": 2
  },
  {
   "metadata": {
    "ExecuteTime": {
     "end_time": "2025-04-25T10:28:14.633331Z",
     "start_time": "2025-04-25T10:28:14.489118Z"
    }
   },
   "cell_type": "code",
   "source": [
    "tree = get_tree(run_path, 'ParameterTree')\n",
    "merged_tree = get_tree(merged_run_path, 'Pico')"
   ],
   "id": "1d60698244472df3",
   "outputs": [],
   "execution_count": 3
  },
  {
   "metadata": {
    "ExecuteTime": {
     "end_time": "2025-04-25T10:34:44.613779Z",
     "start_time": "2025-04-25T10:34:44.042519Z"
    }
   },
   "cell_type": "code",
   "source": [
    "srs_nums = []\n",
    "for file_name in os.listdir(base_path):\n",
    "    if f'Run{run_number}' in file_name and '_merged' not in file_name and file_name.endswith('.root'):\n",
    "        tree_i = get_tree(f'{base_path}{file_name}', 'ParameterTree')\n",
    "        df_i = get_df_branches(tree_i, ['SRSNo'])\n",
    "        srs_nums.append(df_i['SRSNo'].to_numpy())\n",
    "\n",
    "common_srs = srs_nums[0]\n",
    "for srs_nums_i in srs_nums:\n",
    "    common_srs = np.intersect1d(common_srs, srs_nums_i)\n",
    "\n",
    "print(common_srs.shape)"
   ],
   "id": "b9f9a484458ea84f",
   "outputs": [
    {
     "name": "stdout",
     "output_type": "stream",
     "text": [
      "<Report start=0 stop=96000 source='/local/home/dn277127/Bureau/picosec/Run320-Pool4_treeParam.root:/ParameterTree;1'>\n",
      "<Report start=0 stop=96800 source='/local/home/dn277127/Bureau/picosec/Run320-Pool5_treeParam.root:/ParameterTree;1'>\n",
      "<Report start=0 stop=96000 source='/local/home/dn277127/Bureau/picosec/Run320-Pool6_treeParam.root:/ParameterTree;1'>\n",
      "<Report start=0 stop=96000 source='/local/home/dn277127/Bureau/picosec/Run320-Pool7_treeParam.root:/ParameterTree;1'>\n",
      "<Report start=0 stop=101600 source='/local/home/dn277127/Bureau/picosec/Run320-Pool3_treeParam.root:/ParameterTree;1'>\n",
      "(67174,)\n"
     ]
    }
   ],
   "execution_count": 10
  }
 ],
 "metadata": {
  "kernelspec": {
   "display_name": "Python 3",
   "language": "python",
   "name": "python3"
  },
  "language_info": {
   "codemirror_mode": {
    "name": "ipython",
    "version": 2
   },
   "file_extension": ".py",
   "mimetype": "text/x-python",
   "name": "python",
   "nbconvert_exporter": "python",
   "pygments_lexer": "ipython2",
   "version": "2.7.6"
  }
 },
 "nbformat": 4,
 "nbformat_minor": 5
}
